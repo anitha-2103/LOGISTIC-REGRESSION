{
  "nbformat": 4,
  "nbformat_minor": 0,
  "metadata": {
    "colab": {
      "provenance": [],
      "authorship_tag": "ABX9TyN6lwRhXfR+qfbql9QrluRV",
      "include_colab_link": true
    },
    "kernelspec": {
      "name": "python3",
      "display_name": "Python 3"
    },
    "language_info": {
      "name": "python"
    }
  },
  "cells": [
    {
      "cell_type": "markdown",
      "metadata": {
        "id": "view-in-github",
        "colab_type": "text"
      },
      "source": [
        "<a href=\"https://colab.research.google.com/github/anitha-2103/LOGISTIC-REGRESSION/blob/main/statistics.ipynb\" target=\"_parent\"><img src=\"https://colab.research.google.com/assets/colab-badge.svg\" alt=\"Open In Colab\"/></a>"
      ]
    },
    {
      "cell_type": "code",
      "execution_count": 1,
      "metadata": {
        "colab": {
          "base_uri": "https://localhost:8080/"
        },
        "id": "eqeGMn9tVFri",
        "outputId": "9c090e9c-748d-4035-c928-9d3261a2e144"
      },
      "outputs": [
        {
          "output_type": "stream",
          "name": "stdout",
          "text": [
            "mean: 3.9\n",
            "mode: 5\n",
            "median: 4.0\n",
            "variance: 2.32\n",
            "standard deviation: 2\n"
          ]
        }
      ],
      "source": [
        "import statistics as st\n",
        "data=[5,4,1,3,2,4,5,4,5,6]\n",
        "print('mean:',st.mean(data))\n",
        "print('mode:',st.mode(data))\n",
        "print(\"median:\",st.median(data))\n",
        "print(\"variance:\",round(st.variance(data),2))\n",
        "print(\"standard deviation:\",round(st.stdev(data)))\n"
      ]
    },
    {
      "cell_type": "code",
      "source": [
        "import math\n",
        "#constants\n",
        "print(\"exponential value:\",math.e)\n",
        "print(\"pi value:\",math.pi)\n",
        "print(\"infinite value:\",math.inf)\n",
        "print(\"nota number value:\",math.nan)\n",
        "#methods\n",
        "print(\"logarithmaic:\",math.log(math.e))\n",
        "print(\"factorial 5 is:\",math.factorial(5))\n",
        "print(\"gcd of 64 and 42 is\",math.gcd(64,42))\n",
        "print(\"floor of 5.67 is\",math.floor(5.67))\n",
        "print(\"ceil of 5.67 is\",math.ceil(5.67))"
      ],
      "metadata": {
        "colab": {
          "base_uri": "https://localhost:8080/"
        },
        "id": "_ETjl0Swdi7T",
        "outputId": "77cde03c-affb-40cd-ee59-bba1ce836813"
      },
      "execution_count": 2,
      "outputs": [
        {
          "output_type": "stream",
          "name": "stdout",
          "text": [
            "exponential value: 2.718281828459045\n",
            "pi value: 3.141592653589793\n",
            "infinite value: inf\n",
            "nota number value: nan\n",
            "logarithmaic: 1.0\n",
            "factorial 5 is: 120\n",
            "gcd of 64 and 42 is 2\n",
            "floor of 5.67 is 5\n",
            "ceil of 5.67 is 6\n"
          ]
        }
      ]
    }
  ]
}